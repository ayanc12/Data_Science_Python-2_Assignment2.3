{
 "cells": [
  {
   "cell_type": "code",
   "execution_count": 2,
   "metadata": {},
   "outputs": [
    {
     "name": "stdout",
     "output_type": "stream",
     "text": [
      "Enter the words:: AcadGild: AcadGild\n",
      "Your input in reverse order is::   dliGdacA\n"
     ]
    }
   ],
   "source": [
    "# Accepting the input as AcadGild\n",
    "\n",
    "word = input (\"Enter the words:: AcadGild: \")\n",
    "\n",
    "\n",
    "# logic for reversing the entered phrase\n",
    "\n",
    "res = []\n",
    "for elm in word:\n",
    "    res.insert(0,elm)\n",
    "    \n",
    "final_reverse_word = \"\".join(res)\n",
    "\n",
    "# Displaying the reversed version of AcadGild\n",
    "\n",
    "print (\"Your input in reverse order is::  \", final_reverse_word)"
   ]
  },
  {
   "cell_type": "code",
   "execution_count": null,
   "metadata": {},
   "outputs": [],
   "source": []
  }
 ],
 "metadata": {
  "kernelspec": {
   "display_name": "Python 3",
   "language": "python",
   "name": "python3"
  },
  "language_info": {
   "codemirror_mode": {
    "name": "ipython",
    "version": 3
   },
   "file_extension": ".py",
   "mimetype": "text/x-python",
   "name": "python",
   "nbconvert_exporter": "python",
   "pygments_lexer": "ipython3",
   "version": "3.6.4"
  }
 },
 "nbformat": 4,
 "nbformat_minor": 2
}
